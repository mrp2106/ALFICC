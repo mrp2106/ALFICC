{
 "cells": [
  {
   "cell_type": "markdown",
   "id": "c6c0514a-82f5-4350-a40a-c77420c954f0",
   "metadata": {},
   "source": [
    "_________________\n",
    "\n",
    "# Setup"
   ]
  },
  {
   "cell_type": "code",
   "execution_count": null,
   "id": "65a32279-bab8-40f8-bc96-e508ab24095a",
   "metadata": {},
   "outputs": [],
   "source": [
    "import os\n",
    "import ee\n",
    "import geemap\n",
    "\n",
    "ee.Authenticate()\n",
    "ee.Initialize(project='ee-projectname')\n",
    "\n",
    "Map = geemap.Map()"
   ]
  },
  {
   "cell_type": "code",
   "execution_count": null,
   "id": "bb8c4e33-6014-41c5-a5a7-161c0b77422a",
   "metadata": {},
   "outputs": [],
   "source": [
    "newGeo = ee.FeatureCollection() #region of interest\n",
    "bands_spatial_temporal_image = ee.Image() #raster with training bands/features\n",
    "trainingLoaded_all_final_water = ee.FeatureCollection() #reference labeled dataset\n",
    "\n",
    "Map.centerObject(newGeo,8)\n",
    "Map.addLayer(newGeo)"
   ]
  },
  {
   "cell_type": "markdown",
   "id": "11b78b2f-d24b-474e-aaa7-bb5ef83c0bc3",
   "metadata": {},
   "source": [
    "____________________\n",
    "\n",
    "## Get features for the labeled reference dataset"
   ]
  },
  {
   "cell_type": "code",
   "execution_count": null,
   "id": "dccf6414-5749-4457-8d44-2ff965034903",
   "metadata": {},
   "outputs": [],
   "source": [
    "def add_lat_lon(feature):\n",
    "    \"\"\"\n",
    "    Add longitude (x) and latitude (y) coordinates to ee.FeatureCollection()\n",
    "    \"\"\"\n",
    "    geometry = ee.Geometry(feature.geometry())\n",
    "    coords = geometry.coordinates()\n",
    "    return feature.set({\n",
    "      'x': coords.get(0),  # Longitude is the first coordinate\n",
    "      'y': coords.get(1)    # Latitude is the second coordinate\n",
    "    })\n",
    "\n",
    "exportTable = True\n",
    "\n",
    "if exportTable:\n",
    "    trainingLoaded_all_final_water = trainingLoaded_all_final_water.map(add_lat_lon)\n",
    "    \n",
    "    bands_spatial_temporal = bands_spatial_temporal_image.sampleRegions(\n",
    "        collection=trainingLoaded_all_final_water,\n",
    "        properties=[\"C_ID_1\", \"x\", \"y\"],\n",
    "        scale=10\n",
    "    )\n",
    "    \n",
    "    #Export feature collection to drive\n",
    "    task = ee.batch.Export.table.toDrive(\n",
    "        collection=bands_spatial_temporal,\n",
    "        description='bands_spatial_temporal_dataset',\n",
    "        fileFormat='CSV'\n",
    "    )\n",
    "    task.start()"
   ]
  },
  {
   "cell_type": "markdown",
   "id": "cd1e67c7-d22f-4b67-b8a5-757d20076877",
   "metadata": {},
   "source": [
    "____\n",
    "\n",
    "## Get newGeo geoJSON"
   ]
  },
  {
   "cell_type": "code",
   "execution_count": null,
   "id": "37d40d55-8211-47b3-bb58-d496761a44f9",
   "metadata": {},
   "outputs": [],
   "source": [
    "export_task = ee.batch.Export.table.toDrive(\n",
    "    collection=newGeo,\n",
    "    description='newGeo',\n",
    "    fileFormat='GeoJSON'\n",
    ")\n",
    "\n",
    "export_task.start()"
   ]
  },
  {
   "cell_type": "markdown",
   "id": "e4eaec59-a52e-4a50-bcd8-c56bf1287db4",
   "metadata": {},
   "source": [
    "____\n",
    "\n",
    "## Fishnet and download feature raster by tile"
   ]
  },
  {
   "cell_type": "code",
   "execution_count": null,
   "id": "8638d617-52c9-4aa5-b590-88c929e5166b",
   "metadata": {},
   "outputs": [],
   "source": [
    "#geemap fishnet\n",
    "fishnet = geemap.fishnet(newGeo.geometry(), rows=12, cols=16, delta=0.1)\n",
    "Map.addLayer(fishnet, {}, 'features fishnet')\n",
    "Map"
   ]
  },
  {
   "cell_type": "code",
   "execution_count": null,
   "id": "30b015ea-8fa2-4288-acb9-52de27d46c32",
   "metadata": {},
   "outputs": [],
   "source": [
    "#download\n",
    "directory_to_save = \"local_directory\"\n",
    "os.makedirs(directory_to_save, exist_ok=True)\n",
    "\n",
    "geemap.download_ee_image_tiles(\n",
    "    bands_spatial_temporal_image, fishnet, prefix=\"trainingfeatures_\", out_dir=directory_to_save, crs=\"EPSG:4326\", scale=10\n",
    ")\n",
    "print(f\"Feature tiles saved in {feature_directory}\")"
   ]
  }
 ],
 "metadata": {
  "kernelspec": {
   "display_name": "Python 3 (ipykernel)",
   "language": "python",
   "name": "python3"
  },
  "language_info": {
   "codemirror_mode": {
    "name": "ipython",
    "version": 3
   },
   "file_extension": ".py",
   "mimetype": "text/x-python",
   "name": "python",
   "nbconvert_exporter": "python",
   "pygments_lexer": "ipython3",
   "version": "3.11.7"
  }
 },
 "nbformat": 4,
 "nbformat_minor": 5
}
